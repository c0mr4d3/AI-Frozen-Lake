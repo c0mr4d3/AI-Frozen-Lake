{
 "cells": [
  {
   "cell_type": "code",
   "execution_count": 1,
   "metadata": {},
   "outputs": [],
   "source": [
    "import numpy as np\n",
    "import gym\n",
    "import random"
   ]
  },
  {
   "cell_type": "code",
   "execution_count": 2,
   "metadata": {},
   "outputs": [],
   "source": [
    "env = gym.make(\"FrozenLake-v0\")\n"
   ]
  },
  {
   "cell_type": "code",
   "execution_count": 3,
   "metadata": {},
   "outputs": [],
   "source": [
    "action_size = env.action_space.n\n",
    "state_size = env.observation_space.n"
   ]
  },
  {
   "cell_type": "code",
   "execution_count": 4,
   "metadata": {},
   "outputs": [
    {
     "data": {
      "text/plain": [
       "4"
      ]
     },
     "execution_count": 4,
     "metadata": {},
     "output_type": "execute_result"
    }
   ],
   "source": [
    "action_size\n"
   ]
  },
  {
   "cell_type": "code",
   "execution_count": 5,
   "metadata": {},
   "outputs": [],
   "source": [
    "qtable = np.zeros((state_size,action_size))"
   ]
  },
  {
   "cell_type": "code",
   "execution_count": 6,
   "metadata": {},
   "outputs": [
    {
     "name": "stdout",
     "output_type": "stream",
     "text": [
      "[[0. 0. 0. 0.]\n",
      " [0. 0. 0. 0.]\n",
      " [0. 0. 0. 0.]\n",
      " [0. 0. 0. 0.]\n",
      " [0. 0. 0. 0.]\n",
      " [0. 0. 0. 0.]\n",
      " [0. 0. 0. 0.]\n",
      " [0. 0. 0. 0.]\n",
      " [0. 0. 0. 0.]\n",
      " [0. 0. 0. 0.]\n",
      " [0. 0. 0. 0.]\n",
      " [0. 0. 0. 0.]\n",
      " [0. 0. 0. 0.]\n",
      " [0. 0. 0. 0.]\n",
      " [0. 0. 0. 0.]\n",
      " [0. 0. 0. 0.]]\n"
     ]
    }
   ],
   "source": [
    "print(qtable)"
   ]
  },
  {
   "cell_type": "code",
   "execution_count": 7,
   "metadata": {},
   "outputs": [],
   "source": [
    "total_episode = 15000\n",
    "learning_rate = 0.8\n",
    "max_steps = 99\n",
    "gamma = 0.95\n",
    "\n",
    "epsilon = 1.0\n",
    "max_epsilon = 1.0\n",
    "min_epsilon = 0.01\n",
    "decay_rate = 0.005\n"
   ]
  },
  {
   "cell_type": "code",
   "execution_count": 17,
   "metadata": {},
   "outputs": [
    {
     "name": "stdout",
     "output_type": "stream",
     "text": [
      "Score over time : 0.4694\n",
      "[[2.48762356e-01 3.17011728e-02 2.21979390e-02 3.15880975e-02]\n",
      " [7.93497610e-03 3.10224526e-03 3.49179599e-03 2.82343002e-01]\n",
      " [2.14259799e-03 4.97787486e-03 4.83766633e-04 1.02871493e-02]\n",
      " [2.41956047e-03 2.92496774e-03 5.67008345e-05 9.64627592e-03]\n",
      " [2.39058738e-01 1.94961818e-02 1.38714922e-02 6.05481074e-03]\n",
      " [0.00000000e+00 0.00000000e+00 0.00000000e+00 0.00000000e+00]\n",
      " [3.52797377e-06 9.32548396e-06 8.84636742e-02 4.48647759e-06]\n",
      " [0.00000000e+00 0.00000000e+00 0.00000000e+00 0.00000000e+00]\n",
      " [2.48886153e-02 3.77919497e-02 2.02190926e-02 2.13302312e-01]\n",
      " [9.24862655e-05 5.31210475e-01 1.78473361e-02 1.20974103e-02]\n",
      " [4.76431841e-04 1.34613673e-03 1.28398393e-01 1.93780534e-04]\n",
      " [0.00000000e+00 0.00000000e+00 0.00000000e+00 0.00000000e+00]\n",
      " [0.00000000e+00 0.00000000e+00 0.00000000e+00 0.00000000e+00]\n",
      " [6.57494189e-02 1.34330501e-01 5.62093373e-01 6.26176897e-02]\n",
      " [1.77274803e-01 9.63993525e-01 2.80158883e-01 3.13504656e-01]\n",
      " [0.00000000e+00 0.00000000e+00 0.00000000e+00 0.00000000e+00]]\n"
     ]
    }
   ],
   "source": [
    "rewards = [] //we start with a blank array for the rewards for each state\n",
    "\n",
    "for episode in range(total_episode):\n",
    "    state = env.reset()\n",
    "    step = 0\n",
    "    done = False\n",
    "    total_rewards = 0\n",
    "    \n",
    "    //For each step, a random number is generated between 0 and 1\n",
    "    for step in range(max_steps):\n",
    "        exp_exp_tradeoff = random.uniform(0,1)\n",
    "        \n",
    "        //If the random number is greater than epsilon, we take the value obtained from the Q-network for that state\n",
    "        //The maximum Q value i.e. the most profitable action is taken for that set from the set of all available actions\n",
    "        if exp_exp_tradeoff>epsilon:\n",
    "            action = np.argmax(qtable[state,:])\n",
    "        \n",
    "        //If the random number is less than epsilon, then we use a random action with random torque parameters\n",
    "        //This is the exploratory part where it takes new actions to come up with newer techniques to win the game\n",
    "        else:\n",
    "            action = env.action_space.sample()\n",
    "        \n",
    "        \n",
    "        //The Q-network is updated based on the formula in the last section\n",
    "        new_state,reward,done,info = env.step(action)\n",
    "        qtable[state,action] = qtable[state,action] + learning_rate * (reward + gamma*np.max(qtable[new_state,:])\n",
    "                                                                       - qtable[state,action]) \n",
    "        \n",
    "        total_rewards += reward\n",
    "        //Reward is added for each step based on its performance in that epoch\n",
    "        state = new_state\n",
    "        \n",
    "        if done==True:\n",
    "            break\n",
    "        \n",
    "    epsilon = min_epsilon + (max_epsilon - min_epsilon)*np.exp(-decay_rate*episode)\n",
    "    //Epsilon slowly decays exponentially to encourage more Q value exploitation and less exploration \n",
    "    //as the network is much more smarter after some epochs\n",
    "    rewards.append(total_rewards)\n",
    "    \n",
    "print(\"Score over time : \" + str(sum(rewards)/total_episode))\n",
    "print(qtable)\n",
    "            \n"
   ]
  },
  {
   "cell_type": "code",
   "execution_count": 16,
   "metadata": {},
   "outputs": [
    {
     "name": "stdout",
     "output_type": "stream",
     "text": [
      "****************************************************\n",
      "EPISODE  0\n",
      "  (Right)\n",
      "SFFF\n",
      "FHF\u001b[41mH\u001b[0m\n",
      "FFFH\n",
      "HFFG\n",
      "Steps :  72\n",
      "****************************************************\n",
      "EPISODE  1\n",
      "  (Right)\n",
      "SFFF\n",
      "FHF\u001b[41mH\u001b[0m\n",
      "FFFH\n",
      "HFFG\n",
      "Steps :  87\n",
      "****************************************************\n",
      "EPISODE  2\n",
      "****************************************************\n",
      "EPISODE  3\n",
      "  (Right)\n",
      "SFFF\n",
      "FHFH\n",
      "FFFH\n",
      "HFF\u001b[41mG\u001b[0m\n",
      "Steps :  13\n",
      "****************************************************\n",
      "EPISODE  4\n",
      "****************************************************\n",
      "EPISODE  5\n",
      "****************************************************\n",
      "EPISODE  6\n",
      "  (Right)\n",
      "SFFF\n",
      "FHF\u001b[41mH\u001b[0m\n",
      "FFFH\n",
      "HFFG\n",
      "Steps :  69\n",
      "****************************************************\n",
      "EPISODE  7\n",
      "  (Right)\n",
      "SFFF\n",
      "FHF\u001b[41mH\u001b[0m\n",
      "FFFH\n",
      "HFFG\n",
      "Steps :  81\n",
      "****************************************************\n",
      "EPISODE  8\n",
      "  (Right)\n",
      "SFFF\n",
      "FHFH\n",
      "FFFH\n",
      "HFF\u001b[41mG\u001b[0m\n",
      "Steps :  45\n",
      "****************************************************\n",
      "EPISODE  9\n",
      "  (Right)\n",
      "SFFF\n",
      "FHFH\n",
      "FFFH\n",
      "HFF\u001b[41mG\u001b[0m\n",
      "Steps :  7\n",
      "****************************************************\n",
      "EPISODE  10\n",
      "  (Right)\n",
      "SFFF\n",
      "FHF\u001b[41mH\u001b[0m\n",
      "FFFH\n",
      "HFFG\n",
      "Steps :  12\n",
      "****************************************************\n",
      "EPISODE  11\n",
      "  (Right)\n",
      "SFFF\n",
      "FHFH\n",
      "FFFH\n",
      "HFF\u001b[41mG\u001b[0m\n",
      "Steps :  37\n",
      "****************************************************\n",
      "EPISODE  12\n",
      "****************************************************\n",
      "EPISODE  13\n",
      "  (Right)\n",
      "SFFF\n",
      "FHFH\n",
      "FFFH\n",
      "HFF\u001b[41mG\u001b[0m\n",
      "Steps :  32\n",
      "****************************************************\n",
      "EPISODE  14\n",
      "  (Right)\n",
      "SFFF\n",
      "FHF\u001b[41mH\u001b[0m\n",
      "FFFH\n",
      "HFFG\n",
      "Steps :  24\n"
     ]
    }
   ],
   "source": [
    "env.reset()\n",
    "for episode in range(15):\n",
    "    state = env.reset()\n",
    "    step = 0\n",
    "    done = False\n",
    "    print(\"****************************************************\")\n",
    "    print(\"EPISODE \", episode)\n",
    "    \n",
    "    for step in range(max_steps):\n",
    "        action = np.argmax(qtable[state,:])\n",
    "        new_state , reward, done, info = env.step(action)\n",
    "        \n",
    "        if done:\n",
    "            env.render()\n",
    "            \n",
    "            print(\"Steps : \", step)\n",
    "            break\n",
    "        state = new_state\n",
    "env.close()"
   ]
  },
  {
   "cell_type": "code",
   "execution_count": null,
   "metadata": {},
   "outputs": [],
   "source": []
  },
  {
   "cell_type": "code",
   "execution_count": null,
   "metadata": {},
   "outputs": [],
   "source": []
  },
  {
   "cell_type": "code",
   "execution_count": null,
   "metadata": {},
   "outputs": [],
   "source": []
  },
  {
   "cell_type": "code",
   "execution_count": null,
   "metadata": {},
   "outputs": [],
   "source": []
  }
 ],
 "metadata": {
  "kernelspec": {
   "display_name": "Python 3",
   "language": "python",
   "name": "python3"
  },
  "language_info": {
   "codemirror_mode": {
    "name": "ipython",
    "version": 3
   },
   "file_extension": ".py",
   "mimetype": "text/x-python",
   "name": "python",
   "nbconvert_exporter": "python",
   "pygments_lexer": "ipython3",
   "version": "3.7.3"
  }
 },
 "nbformat": 4,
 "nbformat_minor": 4
}
